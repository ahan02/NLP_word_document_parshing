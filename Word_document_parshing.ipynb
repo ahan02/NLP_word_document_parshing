{
 "cells": [
  {
   "cell_type": "markdown",
   "metadata": {},
   "source": [
    "## Scan through multiple word documents then search specific word, and get the next phrase"
   ]
  },
  {
   "cell_type": "code",
   "execution_count": null,
   "metadata": {},
   "outputs": [],
   "source": [
    "#Intall packages \n",
    "import docx\n",
    "import re\n",
    "from docx import Document\n",
    "from pandas import DataFrame\n",
    "import pandas as pd\n",
    "##read 10 word documents with similar names e.g. test1_document.docx, test2_document.docx,,etc\n",
    "for i in range (1, 10+1): #change based on # of documents you have\n",
    "    document=docx.Document('test'+str(i)+'_document.docx')\n",
    "    document=paragraphs #extract all paragrhs in the word document\n",
    "    document.paragrahs[2].text #return text\n",
    "    \n",
    "    #search specific word or phrase, store entire sentence that consists that search key\n",
    "    short_list=[]\n",
    "    word_list=[]\n",
    "    for k in document.paragraph: \n",
    "        if 'test keyword =>' in k.text:\n",
    "            short_list.append(k.text) #returns any sentence consists key phrase 'test keyword =>', \n",
    "            #e.g. we could get 'this sentence has test keyword => 10 words'\n",
    "            next_list=re.findall(r'(?<=\\=> )\\w+', str(short_list)) #from sentence returned, search the next word after '=>'\n",
    "            #e.g. we want to get '10' which is next string after '=>'\n",
    "            word_list.append(next_list)\n",
    "    df=pd.DataFrame (word_list, columns=[\"word_count\"]) #create new data frame, and new column, store this matched string\n",
    "    df.to_csv('test'+str(i)+'_word_count.csv', index=False) #create word count and export to csv for each report"
   ]
  },
  {
   "cell_type": "markdown",
   "metadata": {},
   "source": [
    "## Scan through multiple word documents then extract very last table in the file"
   ]
  },
  {
   "cell_type": "code",
   "execution_count": null,
   "metadata": {},
   "outputs": [],
   "source": [
    "#Install packages\n",
    "import pandas as pd\n",
    "from docx.api import Document\n",
    "#read 10 word documents with similar names e.g. test1_document.docx, test2_document.docx,,etc\n",
    "for e in range (1, 10+1): #change based on # of documents you have\n",
    "    document=docx.Document('test'+str(e)+'_document.docx')\n",
    "    table=document.tables[-1] #get the very last table in the word document file\n",
    "    \n",
    "    parse_data=[]\n",
    "    keys=None\n",
    "    for o,row in enumerate(table.rows):\n",
    "        text= (cell.text for cell in row.cells) #go through by rows in the word documents\n",
    "        \n",
    "        if o==0:\n",
    "            keys=tuple(text)\n",
    "            continue\n",
    "        row_data=dict(zip(keys, text)) \n",
    "        parse_data.append(row_data) \n",
    "    df=pd.DataFrame(parse_data) #parse very first table found in word document as pandas data frame\n",
    "    df=df.set_index('column1').T #in case if you want to transpose the table format, use this, \n",
    "    #e.g. transpose the data table from horizontal to vertical, using column1\n",
    "    df.to_csv('test'+str(e)+'_last_table.csv', index=False) #export to csv"
   ]
  },
  {
   "cell_type": "markdown",
   "metadata": {},
   "source": [
    "## Scan through multiple word documents then extract specific table in the file"
   ]
  },
  {
   "cell_type": "code",
   "execution_count": null,
   "metadata": {},
   "outputs": [],
   "source": [
    "#Install packages\n",
    "import pandas as pd\n",
    "from docx.api import Document\n",
    "#read 10 word documents with similar names e.g. test1_document.docx, test2_document.docx,,etc\n",
    "for j in range (1, 10+1): #change based on # of documents you have\n",
    "    document=docx.Document('test'+str(j)+'_document.docx')\n",
    "    table=document.tables[len(document.tables)-2] #get the table that is the one before the very last table in the word docs\n",
    "    \n",
    "    parse_data=[]\n",
    "    keys=None\n",
    "    for p,row in enumerate(table.rows):\n",
    "        text= (cell.text for cell in row.cells) #go through by rows in the word documents\n",
    "        \n",
    "        if p==0:\n",
    "            keys=tuple(text)\n",
    "            continue\n",
    "        row_data=dict(zip(keys, text)) \n",
    "        parse_data.append(row_data) \n",
    "    df=pd.DataFrame(parse_data) #parse very first table found in word document as pandas data frame\n",
    "    \n",
    "    if 'column1' in df:\n",
    "        df=df.set_index('column1').T #in case if you want to transpose the table format, use this\n",
    "        df.to_csv('test'+str(j)+'_second_last_table.csv', index=False) #export to csv\n",
    "    \n",
    "    else:\n",
    "        df.columns=['column1', 'column2', 'column3'] # if table is missing column, insert column names\n",
    "        df=df.set_index('column1').T #in case if you want to transpose the table format, use this\n",
    "        df.to_csv('test'+str(j)+'_second_last_table.csv', index=False) #export to csv"
   ]
  },
  {
   "cell_type": "markdown",
   "metadata": {},
   "source": [
    "## Merge all parshed data from multiple word documents"
   ]
  },
  {
   "cell_type": "code",
   "execution_count": null,
   "metadata": {},
   "outputs": [],
   "source": [
    "results=pd.DataFrame()\n",
    "#read 10 files from each parsed data above\n",
    "for n in range(1:10+1):\n",
    "    word_count_read=pd.read_csv(\"ex\"+str(n)+'_word_count.csv')\n",
    "    word_count_read.columns=word_count_read.columns.str.replace(\" \", \"\") #in case column has extra space, remove it\n",
    "    last_table_read=pd.read_csv('test'+str(n)+'_last_table.csv')\n",
    "    second_last_table_read=pd.read_csv('test'+str(n)+'_second_last_table.csv')\n",
    "    #parse specific table values and put together the summary\n",
    "    final_result=pd.DataFrame([{'report_id': str(n), \n",
    "                                'word_count': word_count_read.loc[0, 'column1'] #locate value (e.g word count) in 1st row from column1\n",
    "                                'value1': last_table_read.loc[5, 'column1'] #locate table value in 5th row from column1\n",
    "                                'value2': second_last_table_read.loc[10, 'column1'] # locate table value in 10th row from column1\n",
    "        \n",
    "    }])\n",
    "    \n",
    "    results.pd.concat([results, final_result], axis=0)\n",
    "results.to_csv('final_parshing_summary.csv', index=False) #export to .csv with final parshing summary"
   ]
  }
 ],
 "metadata": {
  "kernelspec": {
   "display_name": "Python 3",
   "language": "python",
   "name": "python3"
  },
  "language_info": {
   "codemirror_mode": {
    "name": "ipython",
    "version": 3
   },
   "file_extension": ".py",
   "mimetype": "text/x-python",
   "name": "python",
   "nbconvert_exporter": "python",
   "pygments_lexer": "ipython3",
   "version": "3.6.5"
  }
 },
 "nbformat": 4,
 "nbformat_minor": 2
}
